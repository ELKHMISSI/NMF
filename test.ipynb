{
 "cells": [
  {
   "cell_type": "markdown",
   "metadata": {},
   "source": [
    "In this project we will apply the Non-negative matrix factorisation, to create a recomendation system working on a subset of Book-Crossing Dataset which is downloaded from the following [link](http://www2.informatik.uni-freiburg.de/~cziegler/BX/).\n",
    "\n",
    "The datasets contains information about books, users and the ratings of the books by the users. The ratings are expressed on a scale from 1-10 (higher values means higher appreciation), the 0 value as a rate denoting not rated. \n",
    " \n",
    "\n",
    "## Packages \n",
    "In the following cell we call the packages that we will use in rest of the project:"
   ]
  },
  {
   "cell_type": "code",
   "execution_count": 620,
   "metadata": {},
   "outputs": [],
   "source": [
    "import pandas as pd\n",
    "import numpy as np\n",
    "from sklearn.decomposition import NMF\n",
    "import plotly.graph_objects as go\n",
    "import warnings\n",
    "warnings.filterwarnings('ignore')\n"
   ]
  },
  {
   "cell_type": "markdown",
   "metadata": {},
   "source": [
    "## Data reading and cleaning\n",
    "### Data reading\n",
    "From the link that we mentioned above, we have downloaded the datasets `Books.csv`, and `BX_Ratings.csv` that we will save them respectively on the pandas.dataframe variables `Books` and `Ratings`.\n",
    "\n",
    "+ The dataset `Books` contains the books information.('ISBN', 'Book-Title', 'Book-Author')\n",
    "+ The dataset `Ratings` contains the users ratings for each book.('User-ID', 'ISBN', 'Book-Rating')\n",
    "### Data cleaning\n",
    "For the data cleaning we have dropped the useless `Books` columns for the project, and the lines of `Rating` that contains some encoding problems.\n",
    "\n",
    "After this process we will create another dataset `Books_rate` which is a merge of `Books` and `Rating` by the variable `ISBN` (the book ID)."
   ]
  },
  {
   "cell_type": "code",
   "execution_count": 621,
   "metadata": {},
   "outputs": [],
   "source": [
    "Books = pd.read_csv('Books.csv',sep=';')\n",
    "Ratings = pd.read_csv('BX_Ratings.csv',sep=\";\",encoding=\"latin1\")\n",
    "Books=Books.drop([\"Image-URL-S\",\"Image-URL-M\",\"Image-URL-L\",\"Publisher\",\"Year-Of-Publication\"],axis=1)\n",
    "Ratings=Ratings.drop(Ratings[Ratings[\"ISBN\"].isin([\"0373761619\",\"0735201994\",\"0330482750\",\"0413326608\",\"0440500702\",\"0373166982\",\"0894805959\",\"8423920143\",\"034050823X\",\"039482492X\",\"0553570722\",\"096401811X\",\"085409878X\",\"1874100055\",\"0006479839\",\"0807735132\",\"0394720784\",\"0723245827\",\"1581801653\",\"006263545X\"])].index)\n",
    "Books_rate = Ratings.merge(Books,how=\"left\",on=\"ISBN\")"
   ]
  },
  {
   "cell_type": "markdown",
   "metadata": {},
   "source": [
    "As we can see at the output of the following cell the shape of our new dataset `Books_rate` is 1149740 lines and 5 columns ('User-ID', 'ISBN', 'Book-Rating', 'Book-Title', 'Book-Author'), that's why we will use a filter to keep a subset of this dataset to work on it."
   ]
  },
  {
   "cell_type": "code",
   "execution_count": 622,
   "metadata": {},
   "outputs": [
    {
     "data": {
      "text/plain": [
       "{'shape': (1149740, 5),\n",
       " 'columns': Index(['User-ID', 'ISBN', 'Book-Rating', 'Book-Title', 'Book-Author'], dtype='object')}"
      ]
     },
     "execution_count": 622,
     "metadata": {},
     "output_type": "execute_result"
    }
   ],
   "source": [
    "{'shape': Books_rate.shape,'columns':Books_rate.columns}"
   ]
  },
  {
   "cell_type": "markdown",
   "metadata": {},
   "source": [
    "Our filter consists of keeping the users who have rated more than 300 books, and the books that have been rating by at least 100 users."
   ]
  },
  {
   "cell_type": "code",
   "execution_count": 623,
   "metadata": {},
   "outputs": [],
   "source": [
    "U=Books_rate.groupby(\"User-ID\")[\"Book-Rating\"].count()\n",
    "U=U.loc[U>299].index.values\n",
    "B=Books_rate.groupby(\"ISBN\")[\"Book-Rating\"].count()\n",
    "B=B.loc[B>99].index.values\n",
    "F=Books_rate.loc[Books_rate[\"User-ID\"].isin(U)&Books_rate[\"ISBN\"].isin(B)]"
   ]
  },
  {
   "cell_type": "markdown",
   "metadata": {},
   "source": [
    "## Main matrix\n",
    "Now, after creating the filtered dataframe F, we will create the main matrix `X` that we will for the decomposition.\n",
    "\n",
    "The matrix `X` it's a pivot table (users $\\times$ books), such that $ x_{ij} $ denotes the rate given by the user $i$ to the book $j$, as we know from above the missing values are represented by 0 , we will fill the nan values by 0 using `fillna()` function of `pandas`  \n",
    "\n",
    "As we see in the output, $X\\in \\mathbb R ^{553 \\times 731}$"
   ]
  },
  {
   "cell_type": "code",
   "execution_count": 624,
   "metadata": {},
   "outputs": [
    {
     "data": {
      "text/plain": [
       "(553, 731)"
      ]
     },
     "execution_count": 624,
     "metadata": {},
     "output_type": "execute_result"
    }
   ],
   "source": [
    "X = pd.pivot_table(F,index=\"User-ID\",columns=\"ISBN\",values=\"Book-Rating\").fillna(0)\n",
    "X.shape"
   ]
  },
  {
   "cell_type": "markdown",
   "metadata": {},
   "source": [
    "## Needed functions \n",
    "In the following cell, we have defined the functions that we will use in our project:"
   ]
  },
  {
   "cell_type": "code",
   "execution_count": 637,
   "metadata": {},
   "outputs": [],
   "source": [
    "def NMF_gen(X,r,alpha):\n",
    "    \"\"\" Returns predicted matrix of a given matrix using the sk.learn NMF method to generate an NMF decomposition with :solver='mu',beta_loss='frobenius',l1_ratio=1,max_iter=50.\n",
    "\n",
    "    Parameters\n",
    "    ----------\n",
    "    X : matrix\n",
    "\n",
    "    r : number of components to use in the decomposition (int)\n",
    "\n",
    "    alpha : the regulisation term (float)\n",
    "    \n",
    "    \"\"\"\n",
    "    X_fact=NMF(n_components=r,solver='mu',beta_loss='frobenius',alpha=alpha,l1_ratio=1,max_iter=50)\n",
    "    W,H=X_fact.fit_transform(X),X_fact.components_\n",
    "    X_hat=pd.DataFrame(W@H)\n",
    "    X_hat[X_hat>10]=10\n",
    "    X_hat[X_hat<1]=1\n",
    "    X_hat.columns,X_hat.index=X.columns,X.index\n",
    "    return X_hat\n",
    "\n",
    "def RMSE(X,Y,obs):\n",
    "    \"\"\" Returns the RMSE between two matrixs on a given subset of coordenates.\n",
    "\n",
    "    Parameters\n",
    "    ----------\n",
    "    X,Y : matrix\n",
    "\n",
    "    obs : dataframe of subset of coordenates\n",
    "    \n",
    "    \"\"\"\n",
    "    err=0\n",
    "    for i in range(len(obs)):\n",
    "        err=err+(X.iloc[(obs.iloc[i][\"i\"],obs.iloc[i][\"j\"])]-Y.iloc[(obs.iloc[i][\"i\"],obs.iloc[i][\"j\"])])**2\n",
    "    return np.sqrt(err/len(obs))\n",
    "\n",
    "def n_remove(X,n_obs):\n",
    "    \"\"\" Returns a copy of the given matrix after removing (replaced by 0) a n_obs non zero coordinates in random positions , and a dataframe of the removed coordinates.\n",
    "\n",
    "    Parameters\n",
    "    ----------\n",
    "    X : matrix\n",
    "\n",
    "    n_obs : number of coordenates to remove (int)\n",
    "    \n",
    "    \"\"\"\n",
    "    Y,X_1=X.copy(),X.copy()\n",
    "    X_1=(X_1!=0)\n",
    "    N_zero=pd.DataFrame(np.asmatrix(np.where(X_1)).T,columns=[\"i\",\"j\"])\n",
    "    if n_obs>len(N_zero):\n",
    "        return print(\"n_obs must be less than \",len(N_zero))\n",
    "    obs=N_zero.sample(n_obs)\n",
    "    for i in range(len(obs)):\n",
    "        Y.iloc[(obs.iloc[i][\"i\"],obs.iloc[i][\"j\"])]=0\n",
    "    return Y,obs\n",
    "\n",
    "def range_err(X,vect_r,vect_alpha,n_obs):\n",
    "    \"\"\" Returns a matrix RMSE in a given range of r and alpha variables of the function NMF_gen, between the given matrix and the predicted matrix calculated without the n_obs reel values. \n",
    "\n",
    "    Parameters\n",
    "    ----------\n",
    "    X : matrix\n",
    "\n",
    "    vect_r : a range of the number of components to use in the decomposition (int)\n",
    "\n",
    "    vect_alpha : a range of the regulisation term (float)\n",
    "\n",
    "    n_obs : number of coordenates to remove (int)\n",
    "    \n",
    "    \"\"\"\n",
    "    n_rem=n_remove(X,n_obs)\n",
    "    X_1,obs=n_rem[0],n_rem[1]\n",
    "    ERR=np.zeros((len(vect_r),len(vect_alpha)))\n",
    "    for i in range(len(vect_r)):\n",
    "        for j in range(len(vect_alpha)):\n",
    "            X_hat=NMF_gen(X_1,vect_r[i],vect_alpha[j])\n",
    "            ERR[i,j]=RMSE(X,X_hat,obs)\n",
    "    return ERR\n",
    "\n",
    "def RMSE_mean(X,vect_alpha,vect_r,n_obs,n):\n",
    "    \"\"\" Returns a matrix of the mean of RMSE calculated n times on the return of range_err function, and argmin on r and alpha in the given range.\n",
    "\n",
    "    Parameters\n",
    "    ----------\n",
    "    X : matrix\n",
    "\n",
    "    vect_r : a range of the number of components to use in the decomposition (int)\n",
    "\n",
    "    vect_alpha : a range of the regulisation term (float)\n",
    "\n",
    "    n_obs : number of coordenates to remove (int)\n",
    "\n",
    "    n : number of times to repeat the calculation of the similarity matrix \n",
    "    \n",
    "    \"\"\"\n",
    "    ERR=np.zeros((len(vect_r),len(vect_alpha),n))\n",
    "    for i in range(n):\n",
    "        Y=X.copy()\n",
    "        ERR[:,:,i]=range_err(Y,vect_r,vect_alpha,n_obs)\n",
    "    RMSE=np.zeros((len(vect_r),len(vect_alpha)))\n",
    "    for i in range(len(vect_r)):\n",
    "        for j in range(len(vect_alpha)):\n",
    "            RMSE[i,j]=np.sqrt(np.mean(ERR[i,j,:]))\n",
    "    RMSE=pd.DataFrame(RMSE,index=vect_r,columns=vect_alpha)\n",
    "    arg=np.unravel_index(np.argmin(RMSE),RMSE.shape)\n",
    "    print(\"the argmin of the mean of RMSE in this range are: r =\",RMSE.index[arg[0]],\"alpha =\",RMSE.columns[arg[1]])\n",
    "    return RMSE,RMSE.index[arg[0]],RMSE.columns[arg[1]]\n",
    "\n",
    "def best_model_recom(X,r,alpha,s):\n",
    "    \"\"\" Returns a dataframe of users and the best rated books (predicted rates) with a model calculated with the given parameters , and a list of users that we can do a recommendation for them.\n",
    "\n",
    "    Parameters\n",
    "    ----------\n",
    "    X : matrix\n",
    "\n",
    "    r : number of components to use in the decomposition (int)\n",
    "\n",
    "    alpha : the regulisation term (float)\n",
    "\n",
    "    s : a rate to recommend the books that have rates in above of it  (int between 1-10)\n",
    "\n",
    "    \"\"\"\n",
    "    X_hat=round(NMF_gen(X,r,alpha))\n",
    "    X_hat_1 = X_hat>s \n",
    "    X_hat_2 = X==0\n",
    "    X_hat_b = X_hat_1*X_hat_2\n",
    "    rec=pd.DataFrame(np.asmatrix(np.where(X_hat_b)).T,columns=[\"i\",\"j\"])\n",
    "    rec[\"userID\"]=[X_hat.index[i] for i in rec.i]\n",
    "    rec[\"ISBN\"]=[X_hat.columns[j] for j in rec[\"j\"]]\n",
    "    rec[\"Book_Title\"]=[Books.loc[Books.ISBN==j][\"Book-Title\"] for j in rec.ISBN ]\n",
    "    rec[\"Author\"]=[Books[Books.ISBN==j][\"Book-Author\"] for j in rec.ISBN ]\n",
    "    rec[\"rate\"]=[X_hat.loc[np.array(rec.userID)[i],np.array(rec.ISBN)[i]] for i in range(len(rec))]\n",
    "    rec_df=rec[[\"userID\",\"ISBN\",\"Book_Title\",\"Author\",\"rate\"]]\n",
    "    count=rec_df.groupby(['userID']).size().reset_index(name='counts').sort_values(['counts'],ascending=False)\n",
    "    rec_df[\"count\"]=[int(count[count.userID==i][\"counts\"]) for i in rec_df.userID]\n",
    "    rec_df=rec_df.sort_values([\"count\",\"rate\"],ascending=False,ignore_index=True)[[\"userID\",\"ISBN\",\"Book_Title\",\"Author\",\"rate\"]]\n",
    "    return rec_df,rec_df.userID.unique()\n",
    "\n",
    "def book_to_rec(rec_df,userID):\n",
    "    \"\"\" Returns a dataframe of the recommended books for a given user\n",
    "\n",
    "    Parameters\n",
    "    ----------\n",
    "    rec_df : dataframe of users and their recommended books\n",
    "\n",
    "    UserdID : user ID \n",
    "\n",
    "    \"\"\"\n",
    "\n",
    "    return rec_df.loc[rec_df.userID==userID]"
   ]
  },
  {
   "cell_type": "markdown",
   "metadata": {},
   "source": [
    "## The best model\n",
    "\n",
    "We will calculate the best model for $\\alpha \\in \\{0,0.025, 0.05 , 0.075, 0.1\\}$ , $ r \\in \\{8,\\cdots, 14\\}$ with a $n_{obs}=100$ removed coordinate, and we will take the mean of the RMSE of $n=20$ models calculated, and the best parameters in this range is $r=13$ and $\\alpha=0.025$ as we see in the output."
   ]
  },
  {
   "cell_type": "code",
   "execution_count": 631,
   "metadata": {},
   "outputs": [
    {
     "name": "stdout",
     "output_type": "stream",
     "text": [
      "the argmin of RMSE in this range are: r = 13 alpha = 0.025\n"
     ]
    }
   ],
   "source": [
    "vect_r=range(8,15,1)\n",
    "vect_alpha=np.linspace(0,0.1,5)\n",
    "R=RMSE_mean(X,vect_alpha,vect_r,n=20,n_obs=100)"
   ]
  },
  {
   "cell_type": "markdown",
   "metadata": {},
   "source": [
    "We can visualize the matrix of the mean of RMSE of our range of parameters:"
   ]
  },
  {
   "cell_type": "code",
   "execution_count": 632,
   "metadata": {},
   "outputs": [
    {
     "data": {
      "application/vnd.plotly.v1+json": {
       "config": {
        "plotlyServerURL": "https://plot.ly"
       },
       "data": [
        {
         "colorscale": [
          [
           0,
           "rgb(255,245,240)"
          ],
          [
           0.125,
           "rgb(254,224,210)"
          ],
          [
           0.25,
           "rgb(252,187,161)"
          ],
          [
           0.375,
           "rgb(252,146,114)"
          ],
          [
           0.5,
           "rgb(251,106,74)"
          ],
          [
           0.625,
           "rgb(239,59,44)"
          ],
          [
           0.75,
           "rgb(203,24,29)"
          ],
          [
           0.875,
           "rgb(165,15,21)"
          ],
          [
           1,
           "rgb(103,0,13)"
          ]
         ],
         "contours": {
          "z": {
           "project": {
            "z": true
           },
           "show": true,
           "usecolormap": true
          }
         },
         "type": "surface",
         "x": [
          0,
          0.025,
          0.05,
          0.07500000000000001,
          0.1
         ],
         "y": [
          8,
          9,
          10,
          11,
          12,
          13,
          14
         ],
         "z": [
          [
           2.6463321874864785,
           2.6462473203778267,
           2.6464949777891027,
           2.6468311619796236,
           2.646901438415296
          ],
          [
           2.6442883052031774,
           2.644285586200882,
           2.6437144418024516,
           2.6442822121468885,
           2.643988751332791
          ],
          [
           2.643784316750641,
           2.644704745144428,
           2.644377427098712,
           2.6446798666992857,
           2.644210040329017
          ],
          [
           2.6436493936897336,
           2.643635578225864,
           2.6437226710133226,
           2.643433172961012,
           2.643439664385003
          ],
          [
           2.6437479422639454,
           2.6440690164298877,
           2.643403754831867,
           2.642830916062958,
           2.6428853780638386
          ],
          [
           2.6422057969608383,
           2.641465608477153,
           2.642113993915932,
           2.642033341480573,
           2.643228266543479
          ],
          [
           2.642839640952676,
           2.641654175237743,
           2.6422157404484117,
           2.642163443995092,
           2.642896772266367
          ]
         ]
        }
       ],
       "layout": {
        "height": 600,
        "margin": {
         "b": 0,
         "l": 0,
         "r": 0,
         "t": 0
        },
        "scene": {
         "xaxis": {
          "title": {
           "text": "alpha"
          }
         },
         "yaxis": {
          "title": {
           "text": "r"
          }
         },
         "zaxis": {
          "title": {
           "text": "RMSE"
          }
         }
        },
        "template": {
         "data": {
          "bar": [
           {
            "error_x": {
             "color": "#2a3f5f"
            },
            "error_y": {
             "color": "#2a3f5f"
            },
            "marker": {
             "line": {
              "color": "#E5ECF6",
              "width": 0.5
             },
             "pattern": {
              "fillmode": "overlay",
              "size": 10,
              "solidity": 0.2
             }
            },
            "type": "bar"
           }
          ],
          "barpolar": [
           {
            "marker": {
             "line": {
              "color": "#E5ECF6",
              "width": 0.5
             },
             "pattern": {
              "fillmode": "overlay",
              "size": 10,
              "solidity": 0.2
             }
            },
            "type": "barpolar"
           }
          ],
          "carpet": [
           {
            "aaxis": {
             "endlinecolor": "#2a3f5f",
             "gridcolor": "white",
             "linecolor": "white",
             "minorgridcolor": "white",
             "startlinecolor": "#2a3f5f"
            },
            "baxis": {
             "endlinecolor": "#2a3f5f",
             "gridcolor": "white",
             "linecolor": "white",
             "minorgridcolor": "white",
             "startlinecolor": "#2a3f5f"
            },
            "type": "carpet"
           }
          ],
          "choropleth": [
           {
            "colorbar": {
             "outlinewidth": 0,
             "ticks": ""
            },
            "type": "choropleth"
           }
          ],
          "contour": [
           {
            "colorbar": {
             "outlinewidth": 0,
             "ticks": ""
            },
            "colorscale": [
             [
              0,
              "#0d0887"
             ],
             [
              0.1111111111111111,
              "#46039f"
             ],
             [
              0.2222222222222222,
              "#7201a8"
             ],
             [
              0.3333333333333333,
              "#9c179e"
             ],
             [
              0.4444444444444444,
              "#bd3786"
             ],
             [
              0.5555555555555556,
              "#d8576b"
             ],
             [
              0.6666666666666666,
              "#ed7953"
             ],
             [
              0.7777777777777778,
              "#fb9f3a"
             ],
             [
              0.8888888888888888,
              "#fdca26"
             ],
             [
              1,
              "#f0f921"
             ]
            ],
            "type": "contour"
           }
          ],
          "contourcarpet": [
           {
            "colorbar": {
             "outlinewidth": 0,
             "ticks": ""
            },
            "type": "contourcarpet"
           }
          ],
          "heatmap": [
           {
            "colorbar": {
             "outlinewidth": 0,
             "ticks": ""
            },
            "colorscale": [
             [
              0,
              "#0d0887"
             ],
             [
              0.1111111111111111,
              "#46039f"
             ],
             [
              0.2222222222222222,
              "#7201a8"
             ],
             [
              0.3333333333333333,
              "#9c179e"
             ],
             [
              0.4444444444444444,
              "#bd3786"
             ],
             [
              0.5555555555555556,
              "#d8576b"
             ],
             [
              0.6666666666666666,
              "#ed7953"
             ],
             [
              0.7777777777777778,
              "#fb9f3a"
             ],
             [
              0.8888888888888888,
              "#fdca26"
             ],
             [
              1,
              "#f0f921"
             ]
            ],
            "type": "heatmap"
           }
          ],
          "heatmapgl": [
           {
            "colorbar": {
             "outlinewidth": 0,
             "ticks": ""
            },
            "colorscale": [
             [
              0,
              "#0d0887"
             ],
             [
              0.1111111111111111,
              "#46039f"
             ],
             [
              0.2222222222222222,
              "#7201a8"
             ],
             [
              0.3333333333333333,
              "#9c179e"
             ],
             [
              0.4444444444444444,
              "#bd3786"
             ],
             [
              0.5555555555555556,
              "#d8576b"
             ],
             [
              0.6666666666666666,
              "#ed7953"
             ],
             [
              0.7777777777777778,
              "#fb9f3a"
             ],
             [
              0.8888888888888888,
              "#fdca26"
             ],
             [
              1,
              "#f0f921"
             ]
            ],
            "type": "heatmapgl"
           }
          ],
          "histogram": [
           {
            "marker": {
             "pattern": {
              "fillmode": "overlay",
              "size": 10,
              "solidity": 0.2
             }
            },
            "type": "histogram"
           }
          ],
          "histogram2d": [
           {
            "colorbar": {
             "outlinewidth": 0,
             "ticks": ""
            },
            "colorscale": [
             [
              0,
              "#0d0887"
             ],
             [
              0.1111111111111111,
              "#46039f"
             ],
             [
              0.2222222222222222,
              "#7201a8"
             ],
             [
              0.3333333333333333,
              "#9c179e"
             ],
             [
              0.4444444444444444,
              "#bd3786"
             ],
             [
              0.5555555555555556,
              "#d8576b"
             ],
             [
              0.6666666666666666,
              "#ed7953"
             ],
             [
              0.7777777777777778,
              "#fb9f3a"
             ],
             [
              0.8888888888888888,
              "#fdca26"
             ],
             [
              1,
              "#f0f921"
             ]
            ],
            "type": "histogram2d"
           }
          ],
          "histogram2dcontour": [
           {
            "colorbar": {
             "outlinewidth": 0,
             "ticks": ""
            },
            "colorscale": [
             [
              0,
              "#0d0887"
             ],
             [
              0.1111111111111111,
              "#46039f"
             ],
             [
              0.2222222222222222,
              "#7201a8"
             ],
             [
              0.3333333333333333,
              "#9c179e"
             ],
             [
              0.4444444444444444,
              "#bd3786"
             ],
             [
              0.5555555555555556,
              "#d8576b"
             ],
             [
              0.6666666666666666,
              "#ed7953"
             ],
             [
              0.7777777777777778,
              "#fb9f3a"
             ],
             [
              0.8888888888888888,
              "#fdca26"
             ],
             [
              1,
              "#f0f921"
             ]
            ],
            "type": "histogram2dcontour"
           }
          ],
          "mesh3d": [
           {
            "colorbar": {
             "outlinewidth": 0,
             "ticks": ""
            },
            "type": "mesh3d"
           }
          ],
          "parcoords": [
           {
            "line": {
             "colorbar": {
              "outlinewidth": 0,
              "ticks": ""
             }
            },
            "type": "parcoords"
           }
          ],
          "pie": [
           {
            "automargin": true,
            "type": "pie"
           }
          ],
          "scatter": [
           {
            "fillpattern": {
             "fillmode": "overlay",
             "size": 10,
             "solidity": 0.2
            },
            "type": "scatter"
           }
          ],
          "scatter3d": [
           {
            "line": {
             "colorbar": {
              "outlinewidth": 0,
              "ticks": ""
             }
            },
            "marker": {
             "colorbar": {
              "outlinewidth": 0,
              "ticks": ""
             }
            },
            "type": "scatter3d"
           }
          ],
          "scattercarpet": [
           {
            "marker": {
             "colorbar": {
              "outlinewidth": 0,
              "ticks": ""
             }
            },
            "type": "scattercarpet"
           }
          ],
          "scattergeo": [
           {
            "marker": {
             "colorbar": {
              "outlinewidth": 0,
              "ticks": ""
             }
            },
            "type": "scattergeo"
           }
          ],
          "scattergl": [
           {
            "marker": {
             "colorbar": {
              "outlinewidth": 0,
              "ticks": ""
             }
            },
            "type": "scattergl"
           }
          ],
          "scattermapbox": [
           {
            "marker": {
             "colorbar": {
              "outlinewidth": 0,
              "ticks": ""
             }
            },
            "type": "scattermapbox"
           }
          ],
          "scatterpolar": [
           {
            "marker": {
             "colorbar": {
              "outlinewidth": 0,
              "ticks": ""
             }
            },
            "type": "scatterpolar"
           }
          ],
          "scatterpolargl": [
           {
            "marker": {
             "colorbar": {
              "outlinewidth": 0,
              "ticks": ""
             }
            },
            "type": "scatterpolargl"
           }
          ],
          "scatterternary": [
           {
            "marker": {
             "colorbar": {
              "outlinewidth": 0,
              "ticks": ""
             }
            },
            "type": "scatterternary"
           }
          ],
          "surface": [
           {
            "colorbar": {
             "outlinewidth": 0,
             "ticks": ""
            },
            "colorscale": [
             [
              0,
              "#0d0887"
             ],
             [
              0.1111111111111111,
              "#46039f"
             ],
             [
              0.2222222222222222,
              "#7201a8"
             ],
             [
              0.3333333333333333,
              "#9c179e"
             ],
             [
              0.4444444444444444,
              "#bd3786"
             ],
             [
              0.5555555555555556,
              "#d8576b"
             ],
             [
              0.6666666666666666,
              "#ed7953"
             ],
             [
              0.7777777777777778,
              "#fb9f3a"
             ],
             [
              0.8888888888888888,
              "#fdca26"
             ],
             [
              1,
              "#f0f921"
             ]
            ],
            "type": "surface"
           }
          ],
          "table": [
           {
            "cells": {
             "fill": {
              "color": "#EBF0F8"
             },
             "line": {
              "color": "white"
             }
            },
            "header": {
             "fill": {
              "color": "#C8D4E3"
             },
             "line": {
              "color": "white"
             }
            },
            "type": "table"
           }
          ]
         },
         "layout": {
          "annotationdefaults": {
           "arrowcolor": "#2a3f5f",
           "arrowhead": 0,
           "arrowwidth": 1
          },
          "autotypenumbers": "strict",
          "coloraxis": {
           "colorbar": {
            "outlinewidth": 0,
            "ticks": ""
           }
          },
          "colorscale": {
           "diverging": [
            [
             0,
             "#8e0152"
            ],
            [
             0.1,
             "#c51b7d"
            ],
            [
             0.2,
             "#de77ae"
            ],
            [
             0.3,
             "#f1b6da"
            ],
            [
             0.4,
             "#fde0ef"
            ],
            [
             0.5,
             "#f7f7f7"
            ],
            [
             0.6,
             "#e6f5d0"
            ],
            [
             0.7,
             "#b8e186"
            ],
            [
             0.8,
             "#7fbc41"
            ],
            [
             0.9,
             "#4d9221"
            ],
            [
             1,
             "#276419"
            ]
           ],
           "sequential": [
            [
             0,
             "#0d0887"
            ],
            [
             0.1111111111111111,
             "#46039f"
            ],
            [
             0.2222222222222222,
             "#7201a8"
            ],
            [
             0.3333333333333333,
             "#9c179e"
            ],
            [
             0.4444444444444444,
             "#bd3786"
            ],
            [
             0.5555555555555556,
             "#d8576b"
            ],
            [
             0.6666666666666666,
             "#ed7953"
            ],
            [
             0.7777777777777778,
             "#fb9f3a"
            ],
            [
             0.8888888888888888,
             "#fdca26"
            ],
            [
             1,
             "#f0f921"
            ]
           ],
           "sequentialminus": [
            [
             0,
             "#0d0887"
            ],
            [
             0.1111111111111111,
             "#46039f"
            ],
            [
             0.2222222222222222,
             "#7201a8"
            ],
            [
             0.3333333333333333,
             "#9c179e"
            ],
            [
             0.4444444444444444,
             "#bd3786"
            ],
            [
             0.5555555555555556,
             "#d8576b"
            ],
            [
             0.6666666666666666,
             "#ed7953"
            ],
            [
             0.7777777777777778,
             "#fb9f3a"
            ],
            [
             0.8888888888888888,
             "#fdca26"
            ],
            [
             1,
             "#f0f921"
            ]
           ]
          },
          "colorway": [
           "#636efa",
           "#EF553B",
           "#00cc96",
           "#ab63fa",
           "#FFA15A",
           "#19d3f3",
           "#FF6692",
           "#B6E880",
           "#FF97FF",
           "#FECB52"
          ],
          "font": {
           "color": "#2a3f5f"
          },
          "geo": {
           "bgcolor": "white",
           "lakecolor": "white",
           "landcolor": "#E5ECF6",
           "showlakes": true,
           "showland": true,
           "subunitcolor": "white"
          },
          "hoverlabel": {
           "align": "left"
          },
          "hovermode": "closest",
          "mapbox": {
           "style": "light"
          },
          "paper_bgcolor": "white",
          "plot_bgcolor": "#E5ECF6",
          "polar": {
           "angularaxis": {
            "gridcolor": "white",
            "linecolor": "white",
            "ticks": ""
           },
           "bgcolor": "#E5ECF6",
           "radialaxis": {
            "gridcolor": "white",
            "linecolor": "white",
            "ticks": ""
           }
          },
          "scene": {
           "xaxis": {
            "backgroundcolor": "#E5ECF6",
            "gridcolor": "white",
            "gridwidth": 2,
            "linecolor": "white",
            "showbackground": true,
            "ticks": "",
            "zerolinecolor": "white"
           },
           "yaxis": {
            "backgroundcolor": "#E5ECF6",
            "gridcolor": "white",
            "gridwidth": 2,
            "linecolor": "white",
            "showbackground": true,
            "ticks": "",
            "zerolinecolor": "white"
           },
           "zaxis": {
            "backgroundcolor": "#E5ECF6",
            "gridcolor": "white",
            "gridwidth": 2,
            "linecolor": "white",
            "showbackground": true,
            "ticks": "",
            "zerolinecolor": "white"
           }
          },
          "shapedefaults": {
           "line": {
            "color": "#2a3f5f"
           }
          },
          "ternary": {
           "aaxis": {
            "gridcolor": "white",
            "linecolor": "white",
            "ticks": ""
           },
           "baxis": {
            "gridcolor": "white",
            "linecolor": "white",
            "ticks": ""
           },
           "bgcolor": "#E5ECF6",
           "caxis": {
            "gridcolor": "white",
            "linecolor": "white",
            "ticks": ""
           }
          },
          "title": {
           "x": 0.05
          },
          "xaxis": {
           "automargin": true,
           "gridcolor": "white",
           "linecolor": "white",
           "ticks": "",
           "title": {
            "standoff": 15
           },
           "zerolinecolor": "white",
           "zerolinewidth": 2
          },
          "yaxis": {
           "automargin": true,
           "gridcolor": "white",
           "linecolor": "white",
           "ticks": "",
           "title": {
            "standoff": 15
           },
           "zerolinecolor": "white",
           "zerolinewidth": 2
          }
         }
        },
        "width": 600
       }
      }
     },
     "metadata": {},
     "output_type": "display_data"
    }
   ],
   "source": [
    "fig = go.Figure(go.Surface(colorscale=\"reds\",\n",
    "    x = np.asarray(vect_alpha),\n",
    "    y = np.asarray(vect_r),\n",
    "    z = np.asarray(R[0])))\n",
    "fig.update_traces(contours_z=dict(show=True, usecolormap=True, project_z=True))\n",
    "fig.update_layout(scene = dict(\n",
    "                    xaxis_title='alpha',\n",
    "                    yaxis_title='r',\n",
    "                    zaxis_title='RMSE'),\n",
    "                    width =600,\n",
    "                    height=600,\n",
    "                    margin=dict(r=0, b=0, l=0, t=0))\n",
    "fig.show()\n"
   ]
  },
  {
   "cell_type": "markdown",
   "metadata": {},
   "source": [
    "## Recommendation\n",
    "The function `RMSE_mean()` returns the best parameters in our range(R[1],R[2]), so we can use them to calculate predicted model $\\widehat X$ of X with the function `best_model_recom()`, and it returns a list of the users ID who we can recommend books for them, and a dataframe of them with the books that we can recommend for each one of them, with the condition of the predicted rate of a recommended book must be greater than 5:"
   ]
  },
  {
   "cell_type": "code",
   "execution_count": 638,
   "metadata": {},
   "outputs": [
    {
     "data": {
      "text/html": [
       "<div>\n",
       "<style scoped>\n",
       "    .dataframe tbody tr th:only-of-type {\n",
       "        vertical-align: middle;\n",
       "    }\n",
       "\n",
       "    .dataframe tbody tr th {\n",
       "        vertical-align: top;\n",
       "    }\n",
       "\n",
       "    .dataframe thead th {\n",
       "        text-align: right;\n",
       "    }\n",
       "</style>\n",
       "<table border=\"1\" class=\"dataframe\">\n",
       "  <thead>\n",
       "    <tr style=\"text-align: right;\">\n",
       "      <th></th>\n",
       "      <th>userID</th>\n",
       "      <th>ISBN</th>\n",
       "      <th>Book_Title</th>\n",
       "      <th>Author</th>\n",
       "      <th>rate</th>\n",
       "    </tr>\n",
       "  </thead>\n",
       "  <tbody>\n",
       "    <tr>\n",
       "      <th>19</th>\n",
       "      <td>114368</td>\n",
       "      <td>0515127833</td>\n",
       "      <td>584    River's End\n",
       "Name: Book-Title, dtype: ob...</td>\n",
       "      <td>584    Nora Roberts\n",
       "Name: Book-Author, dtype: ...</td>\n",
       "      <td>6.0</td>\n",
       "    </tr>\n",
       "    <tr>\n",
       "      <th>37</th>\n",
       "      <td>31826</td>\n",
       "      <td>0451160525</td>\n",
       "      <td>11103    The Gunslinger (The Dark Tower, Book ...</td>\n",
       "      <td>11103    Stephen King\n",
       "Name: Book-Author, dtype...</td>\n",
       "      <td>6.0</td>\n",
       "    </tr>\n",
       "    <tr>\n",
       "      <th>12</th>\n",
       "      <td>23872</td>\n",
       "      <td>059035342X</td>\n",
       "      <td>2143    Harry Potter and the Sorcerer's Stone ...</td>\n",
       "      <td>2143    J. K. Rowling\n",
       "Name: Book-Author, dtype...</td>\n",
       "      <td>7.0</td>\n",
       "    </tr>\n",
       "    <tr>\n",
       "      <th>10</th>\n",
       "      <td>135149</td>\n",
       "      <td>044022165X</td>\n",
       "      <td>1012    The Rainmaker\n",
       "Name: Book-Title, dtype:...</td>\n",
       "      <td>1012    JOHN GRISHAM\n",
       "Name: Book-Author, dtype:...</td>\n",
       "      <td>6.0</td>\n",
       "    </tr>\n",
       "    <tr>\n",
       "      <th>20</th>\n",
       "      <td>153662</td>\n",
       "      <td>0439064864</td>\n",
       "      <td>5432    Harry Potter and the Chamber of Secret...</td>\n",
       "      <td>5432    J. K. Rowling\n",
       "Name: Book-Author, dtype...</td>\n",
       "      <td>6.0</td>\n",
       "    </tr>\n",
       "    <tr>\n",
       "      <th>22</th>\n",
       "      <td>170513</td>\n",
       "      <td>043935806X</td>\n",
       "      <td>5506    Harry Potter and the Order of the Phoe...</td>\n",
       "      <td>5506    J. K. Rowling\n",
       "Name: Book-Author, dtype...</td>\n",
       "      <td>6.0</td>\n",
       "    </tr>\n",
       "    <tr>\n",
       "      <th>24</th>\n",
       "      <td>211426</td>\n",
       "      <td>059035342X</td>\n",
       "      <td>2143    Harry Potter and the Sorcerer's Stone ...</td>\n",
       "      <td>2143    J. K. Rowling\n",
       "Name: Book-Author, dtype...</td>\n",
       "      <td>6.0</td>\n",
       "    </tr>\n",
       "    <tr>\n",
       "      <th>11</th>\n",
       "      <td>153662</td>\n",
       "      <td>0439136350</td>\n",
       "      <td>3839    Harry Potter and the Prisoner of Azkab...</td>\n",
       "      <td>3839    J. K. Rowling\n",
       "Name: Book-Author, dtype...</td>\n",
       "      <td>8.0</td>\n",
       "    </tr>\n",
       "    <tr>\n",
       "      <th>3</th>\n",
       "      <td>104636</td>\n",
       "      <td>0425154092</td>\n",
       "      <td>5786    From Potter's Field\n",
       "Name: Book-Title, ...</td>\n",
       "      <td>5786    Patricia Daniels Cornwell\n",
       "Name: Book-A...</td>\n",
       "      <td>6.0</td>\n",
       "    </tr>\n",
       "    <tr>\n",
       "      <th>38</th>\n",
       "      <td>87141</td>\n",
       "      <td>0440214041</td>\n",
       "      <td>2445    The Pelican Brief\n",
       "Name: Book-Title, dt...</td>\n",
       "      <td>2445    John Grisham\n",
       "Name: Book-Author, dtype:...</td>\n",
       "      <td>6.0</td>\n",
       "    </tr>\n",
       "  </tbody>\n",
       "</table>\n",
       "</div>"
      ],
      "text/plain": [
       "    userID        ISBN                                         Book_Title  \\\n",
       "19  114368  0515127833  584    River's End\n",
       "Name: Book-Title, dtype: ob...   \n",
       "37   31826  0451160525  11103    The Gunslinger (The Dark Tower, Book ...   \n",
       "12   23872  059035342X  2143    Harry Potter and the Sorcerer's Stone ...   \n",
       "10  135149  044022165X  1012    The Rainmaker\n",
       "Name: Book-Title, dtype:...   \n",
       "20  153662  0439064864  5432    Harry Potter and the Chamber of Secret...   \n",
       "22  170513  043935806X  5506    Harry Potter and the Order of the Phoe...   \n",
       "24  211426  059035342X  2143    Harry Potter and the Sorcerer's Stone ...   \n",
       "11  153662  0439136350  3839    Harry Potter and the Prisoner of Azkab...   \n",
       "3   104636  0425154092  5786    From Potter's Field\n",
       "Name: Book-Title, ...   \n",
       "38   87141  0440214041  2445    The Pelican Brief\n",
       "Name: Book-Title, dt...   \n",
       "\n",
       "                                               Author  rate  \n",
       "19  584    Nora Roberts\n",
       "Name: Book-Author, dtype: ...   6.0  \n",
       "37  11103    Stephen King\n",
       "Name: Book-Author, dtype...   6.0  \n",
       "12  2143    J. K. Rowling\n",
       "Name: Book-Author, dtype...   7.0  \n",
       "10  1012    JOHN GRISHAM\n",
       "Name: Book-Author, dtype:...   6.0  \n",
       "20  5432    J. K. Rowling\n",
       "Name: Book-Author, dtype...   6.0  \n",
       "22  5506    J. K. Rowling\n",
       "Name: Book-Author, dtype...   6.0  \n",
       "24  2143    J. K. Rowling\n",
       "Name: Book-Author, dtype...   6.0  \n",
       "11  3839    J. K. Rowling\n",
       "Name: Book-Author, dtype...   8.0  \n",
       "3   5786    Patricia Daniels Cornwell\n",
       "Name: Book-A...   6.0  \n",
       "38  2445    John Grisham\n",
       "Name: Book-Author, dtype:...   6.0  "
      ]
     },
     "execution_count": 638,
     "metadata": {},
     "output_type": "execute_result"
    }
   ],
   "source": [
    "rec=best_model_recom(X,R[1],R[2],5)\n",
    "rec[0].sample(10)"
   ]
  },
  {
   "cell_type": "markdown",
   "metadata": {},
   "source": [
    "List of users who we can recommend for them:"
   ]
  },
  {
   "cell_type": "code",
   "execution_count": 639,
   "metadata": {},
   "outputs": [
    {
     "data": {
      "text/plain": [
       "array([104636, 274301, 135149, 153662,  23872,   6575,  13552, 114368,\n",
       "       170513, 211426, 110912,  21014,  78553, 162639,    254,   6251,\n",
       "        88733, 179978, 208141, 230522,  23902,  25981,  31826,  87141,\n",
       "       100906, 204864, 227520, 240144, 242106, 258534], dtype=int64)"
      ]
     },
     "execution_count": 639,
     "metadata": {},
     "output_type": "execute_result"
    }
   ],
   "source": [
    "rec[1]"
   ]
  },
  {
   "cell_type": "markdown",
   "metadata": {},
   "source": [
    "And finally, we can use the function `book_to rec()` to get a sorted dataframe (by rate), of all the books that we can recommend to a given user(chosen from the previous list)."
   ]
  },
  {
   "cell_type": "code",
   "execution_count": 640,
   "metadata": {},
   "outputs": [
    {
     "data": {
      "text/html": [
       "<div>\n",
       "<style scoped>\n",
       "    .dataframe tbody tr th:only-of-type {\n",
       "        vertical-align: middle;\n",
       "    }\n",
       "\n",
       "    .dataframe tbody tr th {\n",
       "        vertical-align: top;\n",
       "    }\n",
       "\n",
       "    .dataframe thead th {\n",
       "        text-align: right;\n",
       "    }\n",
       "</style>\n",
       "<table border=\"1\" class=\"dataframe\">\n",
       "  <thead>\n",
       "    <tr style=\"text-align: right;\">\n",
       "      <th></th>\n",
       "      <th>userID</th>\n",
       "      <th>ISBN</th>\n",
       "      <th>Book_Title</th>\n",
       "      <th>Author</th>\n",
       "      <th>rate</th>\n",
       "    </tr>\n",
       "  </thead>\n",
       "  <tbody>\n",
       "    <tr>\n",
       "      <th>0</th>\n",
       "      <td>104636</td>\n",
       "      <td>0312924585</td>\n",
       "      <td>4479    Silence of the Lambs\n",
       "Name: Book-Title,...</td>\n",
       "      <td>4479    Thomas Harris\n",
       "Name: Book-Author, dtype...</td>\n",
       "      <td>7.0</td>\n",
       "    </tr>\n",
       "    <tr>\n",
       "      <th>1</th>\n",
       "      <td>104636</td>\n",
       "      <td>0425163407</td>\n",
       "      <td>11453    Unnatural Exposure\n",
       "Name: Book-Title, ...</td>\n",
       "      <td>11453    Patricia Daniels Cornwell\n",
       "Name: Book-...</td>\n",
       "      <td>7.0</td>\n",
       "    </tr>\n",
       "    <tr>\n",
       "      <th>2</th>\n",
       "      <td>104636</td>\n",
       "      <td>0425147622</td>\n",
       "      <td>2918    The Body Farm\n",
       "Name: Book-Title, dtype:...</td>\n",
       "      <td>2918    Patricia Daniels Cornwell\n",
       "Name: Book-A...</td>\n",
       "      <td>6.0</td>\n",
       "    </tr>\n",
       "    <tr>\n",
       "      <th>3</th>\n",
       "      <td>104636</td>\n",
       "      <td>0425154092</td>\n",
       "      <td>5786    From Potter's Field\n",
       "Name: Book-Title, ...</td>\n",
       "      <td>5786    Patricia Daniels Cornwell\n",
       "Name: Book-A...</td>\n",
       "      <td>6.0</td>\n",
       "    </tr>\n",
       "  </tbody>\n",
       "</table>\n",
       "</div>"
      ],
      "text/plain": [
       "   userID        ISBN                                         Book_Title  \\\n",
       "0  104636  0312924585  4479    Silence of the Lambs\n",
       "Name: Book-Title,...   \n",
       "1  104636  0425163407  11453    Unnatural Exposure\n",
       "Name: Book-Title, ...   \n",
       "2  104636  0425147622  2918    The Body Farm\n",
       "Name: Book-Title, dtype:...   \n",
       "3  104636  0425154092  5786    From Potter's Field\n",
       "Name: Book-Title, ...   \n",
       "\n",
       "                                              Author  rate  \n",
       "0  4479    Thomas Harris\n",
       "Name: Book-Author, dtype...   7.0  \n",
       "1  11453    Patricia Daniels Cornwell\n",
       "Name: Book-...   7.0  \n",
       "2  2918    Patricia Daniels Cornwell\n",
       "Name: Book-A...   6.0  \n",
       "3  5786    Patricia Daniels Cornwell\n",
       "Name: Book-A...   6.0  "
      ]
     },
     "execution_count": 640,
     "metadata": {},
     "output_type": "execute_result"
    }
   ],
   "source": [
    "book_to_rec(rec[0],104636)"
   ]
  }
 ],
 "metadata": {
  "kernelspec": {
   "display_name": "Python 3.9.12 ('TPs')",
   "language": "python",
   "name": "python3"
  },
  "language_info": {
   "codemirror_mode": {
    "name": "ipython",
    "version": 3
   },
   "file_extension": ".py",
   "mimetype": "text/x-python",
   "name": "python",
   "nbconvert_exporter": "python",
   "pygments_lexer": "ipython3",
   "version": "3.9.12"
  },
  "orig_nbformat": 4,
  "vscode": {
   "interpreter": {
    "hash": "0f7f666b1c2f090bfe0dbc0455a49dc5c0d8c6956c0c4a18edb85acba026c8e3"
   }
  }
 },
 "nbformat": 4,
 "nbformat_minor": 2
}
