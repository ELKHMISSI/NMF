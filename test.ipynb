{
 "cells": [
  {
   "cell_type": "markdown",
   "metadata": {},
   "source": [
    "In this project we will applies the Non-negative matrix factorisation, to create a recomendation system working on a subset of Book-Crossing Dataset which http://www2.informatik.uni-freiburg.de/~cziegler/BX/\n"
   ]
  },
  {
   "cell_type": "code",
   "execution_count": null,
   "metadata": {},
   "outputs": [],
   "source": [
    "import pandas as pd\n",
    "import numpy as np\n",
    "from sklearn.decomposition import NMF\n",
    "import plotly.graph_objects as go\n",
    "import warnings\n",
    "warnings.filterwarnings('ignore')\n"
   ]
  },
  {
   "cell_type": "code",
   "execution_count": null,
   "metadata": {},
   "outputs": [],
   "source": [
    "\n",
    "Books = pd.read_csv('Books.csv',sep=';')\n",
    "Users = pd.read_csv('Users.csv',sep=\";\")\n",
    "Ratings = pd.read_csv('BX_Ratings.csv',sep=\";\",encoding=\"latin1\")\n",
    "Books=Books.drop([\"Image-URL-S\",\"Image-URL-M\",\"Image-URL-L\",\"Publisher\",\"Year-Of-Publication\"],axis=1)\n",
    "Ratings=Ratings.drop(Ratings[Ratings[\"ISBN\"].isin([\"0373761619\",\"0735201994\",\n",
    "                            \"0330482750\",\"0413326608\",\"0440500702\",\"0373166982\",\n",
    "                            \"0894805959\",\"8423920143\",\"034050823X\",\"039482492X\",\n",
    "                            \"0553570722\",\"096401811X\",\"085409878X\",\"1874100055\",\n",
    "                            \"0006479839\",\"0807735132\",\"0394720784\",\"0723245827\",\n",
    "                            \"1581801653\",\"006263545X\"])].index)\n",
    "Books_rate = Ratings.merge(Books,how=\"left\",on=\"ISBN\")\n",
    "Books_rate = Books_rate.dropna()\n"
   ]
  },
  {
   "cell_type": "code",
   "execution_count": null,
   "metadata": {},
   "outputs": [],
   "source": [
    "U=Books_rate.groupby(\"User-ID\")[\"Book-Rating\"].count()\n",
    "U=U.loc[U>300].index.values\n",
    "B=Books_rate.groupby(\"ISBN\")[\"Book-Rating\"].count()\n",
    "B=B.loc[B>100].index.values\n",
    "F=Books_rate.loc[Books_rate[\"User-ID\"].isin(U)&Books_rate[\"ISBN\"].isin(B)]"
   ]
  },
  {
   "cell_type": "code",
   "execution_count": null,
   "metadata": {},
   "outputs": [],
   "source": [
    "Xnan = pd.pivot_table(F,index=\"User-ID\",columns=\"ISBN\",values=\"Book-Rating\")\n",
    "X=Xnan.fillna(0)\n",
    "X.shape"
   ]
  },
  {
   "cell_type": "code",
   "execution_count": null,
   "metadata": {},
   "outputs": [],
   "source": [
    "def norm_frob(A) :\n",
    "    A=np.asmatrix(A)\n",
    "    return float(np.sqrt((A.T@A).trace()))\n",
    "    \n",
    "def NMF_gen(X,r,alpha):\n",
    "    X_fact=NMF(n_components=r,solver='mu',beta_loss='frobenius',alpha=alpha)\n",
    "    W=X_fact.fit_transform(X)\n",
    "    H=X_fact.components_\n",
    "    X_hat=pd.DataFrame(W@H)\n",
    "    X_hat[X_hat>10]=10\n",
    "    X_hat[X_hat<1]=1\n",
    "    X_hat.columns=X.columns\n",
    "    X_hat.index=X.index\n",
    "    return X_hat\n",
    "\n",
    "def n_remove(X,n_obs):\n",
    "    Y=X\n",
    "    X_1=X\n",
    "    X_1=(X_1!=0)\n",
    "    N_zero=pd.DataFrame(np.asmatrix(np.where(X_1)).T,columns=[\"i\",\"j\"])\n",
    "    obs=N_zero.sample(n_obs)\n",
    "    for i in range(len(obs)):\n",
    "        Y.iloc[(obs.iloc[i][\"i\"],obs.iloc[i][\"j\"])]=0\n",
    "    return Y,obs\n",
    "\n",
    "def rass(X,Y,obs):\n",
    "    err=0\n",
    "    for i in range(len(obs)):\n",
    "        err=err+(X.iloc[(obs.iloc[i][\"i\"],obs.iloc[i][\"j\"])]-Y.iloc[(obs.iloc[i][\"i\"],obs.iloc[i][\"j\"])])**2\n",
    "    return err\n",
    "\n",
    "def range_err(X,vect_r,vect_alpha,n_obs):\n",
    "    n_rem=n_remove(X,n_obs)\n",
    "    X_1,obs=n_rem[0],n_rem[1]\n",
    "    ERR=np.zeros((len(vect_r),len(vect_alpha)))\n",
    "    for i in range(len(vect_r)):\n",
    "        for j in range(len(vect_alpha)):\n",
    "            X_hat=NMF_gen(X_1,vect_r[i],vect_alpha[j])\n",
    "            ERR[i,j]=rass(X,X_hat,obs)\n",
    "    return ERR\n",
    "\n",
    "def RMSE(X,vect_alpha,vect_r,n):\n",
    "    ERR=np.zeros((len(vect_r),len(vect_alpha),n))\n",
    "    for i in range(n):\n",
    "        ERR[:,:,i]=range_err(X,vect_r,vect_alpha,100)\n",
    "    RMSE=np.zeros((len(vect_r),len(vect_alpha)))\n",
    "    for i in range(len(vect_r)):\n",
    "        for j in range(len(vect_alpha)):\n",
    "            RMSE[i,j]=np.sqrt(np.mean(ERR[i,j,:]))\n",
    "    RMSE=pd.DataFrame(RMSE,index=vect_r,columns=vect_alpha)\n",
    "    arg=np.unravel_index(np.argmin(RMSE),RMSE.shape)\n",
    "    print(\"the argmin of RMSE in this range are: r =\",RMSE.index[arg[0]],\"alpha =\",RMSE.columns[arg[1]])\n",
    "    return RMSE,RMSE.index[arg[0]],RMSE.columns[arg[1]]"
   ]
  },
  {
   "cell_type": "code",
   "execution_count": null,
   "metadata": {},
   "outputs": [],
   "source": [
    "vect_r=range(4,10,1)\n",
    "vect_alpha=np.linspace(0.1,1,10)\n",
    "R=RMSE(X,vect_alpha,vect_r,20)"
   ]
  },
  {
   "cell_type": "code",
   "execution_count": null,
   "metadata": {},
   "outputs": [],
   "source": [
    "fig = go.Figure(go.Surface(colorscale=\"reds\",\n",
    "    x = np.asarray(vect_alpha),\n",
    "    y = np.asarray(vect_r),\n",
    "    z = np.asarray(R[0])))\n",
    "fig.update_traces(contours_z=dict(show=True, usecolormap=True, project_z=True))\n",
    "fig.update_layout(scene = dict(\n",
    "                    xaxis_title='alpha',\n",
    "                    yaxis_title='r',\n",
    "                    zaxis_title='RMSE'),\n",
    "                    width =400,\n",
    "                    height=400,\n",
    "                    margin=dict(r=0, b=0, l=0, t=0))\n",
    "fig.show()\n"
   ]
  },
  {
   "cell_type": "code",
   "execution_count": null,
   "metadata": {},
   "outputs": [],
   "source": [
    "X_hat=round(NMF_gen(X,R[1],R[2]))\n",
    "X_hat\n"
   ]
  },
  {
   "cell_type": "code",
   "execution_count": null,
   "metadata": {},
   "outputs": [],
   "source": [
    "X_hat_b=X_hat>5\n",
    "pd.DataFrame(np.asmatrix(np.where(X_hat_b)).T,columns=[\"i\",\"j\"])"
   ]
  }
 ],
 "metadata": {
  "kernelspec": {
   "display_name": "Python 3.9.12 ('TPs')",
   "language": "python",
   "name": "python3"
  },
  "language_info": {
   "codemirror_mode": {
    "name": "ipython",
    "version": 3
   },
   "file_extension": ".py",
   "mimetype": "text/x-python",
   "name": "python",
   "nbconvert_exporter": "python",
   "pygments_lexer": "ipython3",
   "version": "3.9.12"
  },
  "orig_nbformat": 4,
  "vscode": {
   "interpreter": {
    "hash": "0f7f666b1c2f090bfe0dbc0455a49dc5c0d8c6956c0c4a18edb85acba026c8e3"
   }
  }
 },
 "nbformat": 4,
 "nbformat_minor": 2
}
