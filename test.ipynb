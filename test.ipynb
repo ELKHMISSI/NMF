{
 "cells": [
  {
   "cell_type": "markdown",
   "metadata": {},
   "source": [
    "In this project we will applies the Non-negative matrix factorisation, to create a recomendation system working on a subset of Book-Crossing Dataset which http://www2.informatik.uni-freiburg.de/~cziegler/BX/\n"
   ]
  },
  {
   "cell_type": "code",
   "execution_count": 6,
   "metadata": {},
   "outputs": [],
   "source": [
    "import pandas as pd\n",
    "import numpy as np\n",
    "from sklearn.decomposition import NMF\n",
    "import plotly.graph_objects as go\n",
    "import warnings\n",
    "warnings.filterwarnings('ignore')"
   ]
  },
  {
   "cell_type": "code",
   "execution_count": 7,
   "metadata": {},
   "outputs": [],
   "source": [
    "\n",
    "Books = pd.read_csv('Books.csv',sep=';')\n",
    "Users = pd.read_csv('Users.csv',sep=\";\")\n",
    "Ratings = pd.read_csv('BX_Ratings.csv',sep=\";\",encoding=\"latin1\")\n",
    "Books=Books.drop([\"Image-URL-S\",\"Image-URL-M\",\"Image-URL-L\",\"Publisher\",\"Year-Of-Publication\"],axis=1)\n",
    "Ratings=Ratings.drop(Ratings[Ratings[\"ISBN\"].isin([\"0373761619\",\"0735201994\",\n",
    "                            \"0330482750\",\"0413326608\",\"0440500702\",\"0373166982\",\n",
    "                            \"0894805959\",\"8423920143\",\"034050823X\",\"039482492X\",\n",
    "                            \"0553570722\",\"096401811X\",\"085409878X\",\"1874100055\",\n",
    "                            \"0006479839\",\"0807735132\",\"0394720784\",\"0723245827\",\n",
    "                            \"1581801653\",\"006263545X\"])].index)\n",
    "Books_rate = Ratings.merge(Books,how=\"left\",on=\"ISBN\")\n",
    "Books_rate = Books_rate.dropna()\n"
   ]
  },
  {
   "cell_type": "code",
   "execution_count": 8,
   "metadata": {},
   "outputs": [],
   "source": [
    "U=Books_rate.groupby(\"User-ID\")[\"Book-Rating\"].count()\n",
    "U=U.loc[U>300].index.values\n",
    "B=Books_rate.groupby(\"ISBN\")[\"Book-Rating\"].count()\n",
    "B=B.loc[B>100].index.values\n",
    "F=Books_rate.loc[Books_rate[\"User-ID\"].isin(U)&Books_rate[\"ISBN\"].isin(B)]"
   ]
  },
  {
   "cell_type": "code",
   "execution_count": 326,
   "metadata": {},
   "outputs": [
    {
     "data": {
      "text/plain": [
       "(497, 717)"
      ]
     },
     "execution_count": 326,
     "metadata": {},
     "output_type": "execute_result"
    }
   ],
   "source": [
    "Xnan = pd.pivot_table(F,index=\"User-ID\",columns=\"ISBN\",values=\"Book-Rating\")\n",
    "X=Xnan.fillna(0)\n",
    "X.shape"
   ]
  },
  {
   "cell_type": "code",
   "execution_count": 327,
   "metadata": {},
   "outputs": [],
   "source": [
    "def norm_frob(A) :\n",
    "    A=np.asmatrix(A)\n",
    "    return float(np.sqrt((A.T@A).trace()))\n",
    "    \n",
    "def NMF_gen(X,r,alpha):\n",
    "    X_fact=NMF(n_components=r,solver='mu',beta_loss='frobenius',alpha=alpha)\n",
    "    W=X_fact.fit_transform(X)\n",
    "    H=X_fact.components_\n",
    "    X_hat=pd.DataFrame(W@H)\n",
    "    X_hat[X_hat>10]=10\n",
    "    X_hat[X_hat<1]=1\n",
    "    X_hat.columns=X.columns\n",
    "    X_hat.index=X.index\n",
    "    return X_hat\n",
    "\n",
    "def n_remove(X,n_obs):\n",
    "    Y=X\n",
    "    X_1=X\n",
    "    X_1=(X_1!=0)\n",
    "    N_zero=pd.DataFrame(np.asmatrix(np.where(X_1)).T,columns=[\"i\",\"j\"])\n",
    "    obs=N_zero.sample(n_obs)\n",
    "    for i in range(len(obs)):\n",
    "        Y.iloc[(obs.iloc[i][\"i\"],obs.iloc[i][\"j\"])]=0\n",
    "    return Y,obs\n",
    "\n",
    "def rass(X,Y,obs):\n",
    "    err=0\n",
    "    for i in range(len(obs)):\n",
    "        err=err+(X.iloc[(obs.iloc[i][\"i\"],obs.iloc[i][\"j\"])]-Y.iloc[(obs.iloc[i][\"i\"],obs.iloc[i][\"j\"])])**2\n",
    "    return err\n",
    "\n",
    "def range_err(X,vect_r,vect_alpha,n_obs):\n",
    "    n_rem=n_remove(X,n_obs)\n",
    "    X_1,obs=n_rem[0],n_rem[1]\n",
    "    ERR=np.zeros((len(vect_r),len(vect_alpha)))\n",
    "    for i in range(len(vect_r)):\n",
    "        for j in range(len(vect_alpha)):\n",
    "            X_hat=NMF_gen(X_1,vect_r[i],vect_alpha[j])\n",
    "            ERR[i,j]=rass(X,X_hat,obs)\n",
    "    return ERR\n",
    "\n",
    "def RMSE(X,vect_alpha,vect_r,n):\n",
    "    ERR=np.zeros((len(vect_r),len(vect_alpha),n))\n",
    "    for i in range(n):\n",
    "        ERR[:,:,i]=range_err(X,vect_r,vect_alpha,100)\n",
    "    RMSE=np.zeros((len(vect_r),len(vect_alpha)))\n",
    "    for i in range(len(vect_r)):\n",
    "        for j in range(len(vect_alpha)):\n",
    "            RMSE[i,j]=np.sqrt(np.mean(ERR[i,j,:]))\n",
    "    RMSE=pd.DataFrame(RMSE,index=vect_r,columns=vect_alpha)\n",
    "    arg=np.unravel_index(np.argmin(RMSE),RMSE.shape)\n",
    "    print(\"the argmin of RMSE in this range are: r =\",RMSE.index[arg[0]],\"alpha =\",RMSE.columns[arg[1]])\n",
    "    return RMSE,RMSE.index[arg[0]],RMSE.columns[arg[1]]"
   ]
  },
  {
   "cell_type": "code",
   "execution_count": 328,
   "metadata": {},
   "outputs": [
    {
     "name": "stdout",
     "output_type": "stream",
     "text": [
      "the argmin of RMSE in this range are: r = 4 alpha = 2.0\n"
     ]
    }
   ],
   "source": [
    "vect_r=range(4,12,1)\n",
    "vect_alpha=np.linspace(0.1,2,10)\n",
    "R=RMSE(X,vect_alpha,vect_r,20)"
   ]
  },
  {
   "cell_type": "code",
   "execution_count": 332,
   "metadata": {},
   "outputs": [
    {
     "data": {
      "application/vnd.plotly.v1+json": {
       "config": {
        "plotlyServerURL": "https://plot.ly"
       },
       "data": [
        {
         "colorscale": [
          [
           0,
           "rgb(255,245,240)"
          ],
          [
           0.125,
           "rgb(254,224,210)"
          ],
          [
           0.25,
           "rgb(252,187,161)"
          ],
          [
           0.375,
           "rgb(252,146,114)"
          ],
          [
           0.5,
           "rgb(251,106,74)"
          ],
          [
           0.625,
           "rgb(239,59,44)"
          ],
          [
           0.75,
           "rgb(203,24,29)"
          ],
          [
           0.875,
           "rgb(165,15,21)"
          ],
          [
           1,
           "rgb(103,0,13)"
          ]
         ],
         "contours": {
          "z": {
           "project": {
            "z": true
           },
           "show": true,
           "usecolormap": true
          }
         },
         "type": "surface",
         "x": [
          0.1,
          0.3111111111111111,
          0.5222222222222223,
          0.7333333333333333,
          0.9444444444444444,
          1.1555555555555557,
          1.3666666666666667,
          1.577777777777778,
          1.788888888888889,
          2
         ],
         "y": [
          4,
          5,
          6,
          7,
          8,
          9,
          10,
          11
         ],
         "z": [
          [
           12.181006967228042,
           12.176527838583635,
           12.157539652651902,
           12.150125110666849,
           12.141694417713541,
           12.134924833026325,
           12.115827761545502,
           12.114576798008686,
           12.104096408909626,
           12.096608647584427
          ],
          [
           12.698689876882357,
           12.683475654786545,
           12.664579852825762,
           12.645776410708919,
           12.647610414462873,
           12.632930339898289,
           12.620748905778745,
           12.60927511720785,
           12.594822106059809,
           12.599128145058609
          ],
          [
           13.13354449383174,
           13.115533204093552,
           13.093517710779887,
           13.100709578617105,
           13.094480143139908,
           13.072422848986163,
           13.06388334762953,
           13.040417053768937,
           13.019990064449152,
           13.027964999708784
          ],
          [
           13.310968887308231,
           13.317711583012542,
           13.316882664338618,
           13.300645649806247,
           13.245989541386415,
           13.262609191047133,
           13.336667568041982,
           13.214273214028156,
           13.208154525340479,
           13.291973422930996
          ],
          [
           13.537292812024385,
           13.362814658916367,
           13.221418642827711,
           13.24222484135309,
           13.241112125583447,
           13.278422596584193,
           13.182336311757947,
           13.22937916918884,
           13.341726848618189,
           13.121802380950871
          ],
          [
           13.746149480813855,
           13.747094096319595,
           13.711958745378025,
           13.698420437949654,
           13.728933929347264,
           13.660447160355202,
           13.781883561125024,
           13.648607050312663,
           13.66617286596459,
           13.526016256009534
          ],
          [
           13.452496042389338,
           13.595290272539433,
           13.6439988732068,
           13.597702171643116,
           13.6528398702587,
           13.653291269669781,
           13.697988595932934,
           13.59828893808191,
           13.595498773711045,
           13.446058034822071
          ],
          [
           13.747398553232818,
           13.550977693753701,
           13.858828418880776,
           13.796929699745933,
           13.817066265427854,
           13.806690512662502,
           13.730697129370839,
           13.731851298873245,
           13.615421166607947,
           13.530764863506588
          ]
         ]
        }
       ],
       "layout": {
        "height": 400,
        "margin": {
         "b": 0,
         "l": 0,
         "r": 0,
         "t": 0
        },
        "scene": {
         "xaxis": {
          "title": {
           "text": "alpha"
          }
         },
         "yaxis": {
          "title": {
           "text": "r"
          }
         },
         "zaxis": {
          "title": {
           "text": "RMSE"
          }
         }
        },
        "template": {
         "data": {
          "bar": [
           {
            "error_x": {
             "color": "#2a3f5f"
            },
            "error_y": {
             "color": "#2a3f5f"
            },
            "marker": {
             "line": {
              "color": "#E5ECF6",
              "width": 0.5
             },
             "pattern": {
              "fillmode": "overlay",
              "size": 10,
              "solidity": 0.2
             }
            },
            "type": "bar"
           }
          ],
          "barpolar": [
           {
            "marker": {
             "line": {
              "color": "#E5ECF6",
              "width": 0.5
             },
             "pattern": {
              "fillmode": "overlay",
              "size": 10,
              "solidity": 0.2
             }
            },
            "type": "barpolar"
           }
          ],
          "carpet": [
           {
            "aaxis": {
             "endlinecolor": "#2a3f5f",
             "gridcolor": "white",
             "linecolor": "white",
             "minorgridcolor": "white",
             "startlinecolor": "#2a3f5f"
            },
            "baxis": {
             "endlinecolor": "#2a3f5f",
             "gridcolor": "white",
             "linecolor": "white",
             "minorgridcolor": "white",
             "startlinecolor": "#2a3f5f"
            },
            "type": "carpet"
           }
          ],
          "choropleth": [
           {
            "colorbar": {
             "outlinewidth": 0,
             "ticks": ""
            },
            "type": "choropleth"
           }
          ],
          "contour": [
           {
            "colorbar": {
             "outlinewidth": 0,
             "ticks": ""
            },
            "colorscale": [
             [
              0,
              "#0d0887"
             ],
             [
              0.1111111111111111,
              "#46039f"
             ],
             [
              0.2222222222222222,
              "#7201a8"
             ],
             [
              0.3333333333333333,
              "#9c179e"
             ],
             [
              0.4444444444444444,
              "#bd3786"
             ],
             [
              0.5555555555555556,
              "#d8576b"
             ],
             [
              0.6666666666666666,
              "#ed7953"
             ],
             [
              0.7777777777777778,
              "#fb9f3a"
             ],
             [
              0.8888888888888888,
              "#fdca26"
             ],
             [
              1,
              "#f0f921"
             ]
            ],
            "type": "contour"
           }
          ],
          "contourcarpet": [
           {
            "colorbar": {
             "outlinewidth": 0,
             "ticks": ""
            },
            "type": "contourcarpet"
           }
          ],
          "heatmap": [
           {
            "colorbar": {
             "outlinewidth": 0,
             "ticks": ""
            },
            "colorscale": [
             [
              0,
              "#0d0887"
             ],
             [
              0.1111111111111111,
              "#46039f"
             ],
             [
              0.2222222222222222,
              "#7201a8"
             ],
             [
              0.3333333333333333,
              "#9c179e"
             ],
             [
              0.4444444444444444,
              "#bd3786"
             ],
             [
              0.5555555555555556,
              "#d8576b"
             ],
             [
              0.6666666666666666,
              "#ed7953"
             ],
             [
              0.7777777777777778,
              "#fb9f3a"
             ],
             [
              0.8888888888888888,
              "#fdca26"
             ],
             [
              1,
              "#f0f921"
             ]
            ],
            "type": "heatmap"
           }
          ],
          "heatmapgl": [
           {
            "colorbar": {
             "outlinewidth": 0,
             "ticks": ""
            },
            "colorscale": [
             [
              0,
              "#0d0887"
             ],
             [
              0.1111111111111111,
              "#46039f"
             ],
             [
              0.2222222222222222,
              "#7201a8"
             ],
             [
              0.3333333333333333,
              "#9c179e"
             ],
             [
              0.4444444444444444,
              "#bd3786"
             ],
             [
              0.5555555555555556,
              "#d8576b"
             ],
             [
              0.6666666666666666,
              "#ed7953"
             ],
             [
              0.7777777777777778,
              "#fb9f3a"
             ],
             [
              0.8888888888888888,
              "#fdca26"
             ],
             [
              1,
              "#f0f921"
             ]
            ],
            "type": "heatmapgl"
           }
          ],
          "histogram": [
           {
            "marker": {
             "pattern": {
              "fillmode": "overlay",
              "size": 10,
              "solidity": 0.2
             }
            },
            "type": "histogram"
           }
          ],
          "histogram2d": [
           {
            "colorbar": {
             "outlinewidth": 0,
             "ticks": ""
            },
            "colorscale": [
             [
              0,
              "#0d0887"
             ],
             [
              0.1111111111111111,
              "#46039f"
             ],
             [
              0.2222222222222222,
              "#7201a8"
             ],
             [
              0.3333333333333333,
              "#9c179e"
             ],
             [
              0.4444444444444444,
              "#bd3786"
             ],
             [
              0.5555555555555556,
              "#d8576b"
             ],
             [
              0.6666666666666666,
              "#ed7953"
             ],
             [
              0.7777777777777778,
              "#fb9f3a"
             ],
             [
              0.8888888888888888,
              "#fdca26"
             ],
             [
              1,
              "#f0f921"
             ]
            ],
            "type": "histogram2d"
           }
          ],
          "histogram2dcontour": [
           {
            "colorbar": {
             "outlinewidth": 0,
             "ticks": ""
            },
            "colorscale": [
             [
              0,
              "#0d0887"
             ],
             [
              0.1111111111111111,
              "#46039f"
             ],
             [
              0.2222222222222222,
              "#7201a8"
             ],
             [
              0.3333333333333333,
              "#9c179e"
             ],
             [
              0.4444444444444444,
              "#bd3786"
             ],
             [
              0.5555555555555556,
              "#d8576b"
             ],
             [
              0.6666666666666666,
              "#ed7953"
             ],
             [
              0.7777777777777778,
              "#fb9f3a"
             ],
             [
              0.8888888888888888,
              "#fdca26"
             ],
             [
              1,
              "#f0f921"
             ]
            ],
            "type": "histogram2dcontour"
           }
          ],
          "mesh3d": [
           {
            "colorbar": {
             "outlinewidth": 0,
             "ticks": ""
            },
            "type": "mesh3d"
           }
          ],
          "parcoords": [
           {
            "line": {
             "colorbar": {
              "outlinewidth": 0,
              "ticks": ""
             }
            },
            "type": "parcoords"
           }
          ],
          "pie": [
           {
            "automargin": true,
            "type": "pie"
           }
          ],
          "scatter": [
           {
            "fillpattern": {
             "fillmode": "overlay",
             "size": 10,
             "solidity": 0.2
            },
            "type": "scatter"
           }
          ],
          "scatter3d": [
           {
            "line": {
             "colorbar": {
              "outlinewidth": 0,
              "ticks": ""
             }
            },
            "marker": {
             "colorbar": {
              "outlinewidth": 0,
              "ticks": ""
             }
            },
            "type": "scatter3d"
           }
          ],
          "scattercarpet": [
           {
            "marker": {
             "colorbar": {
              "outlinewidth": 0,
              "ticks": ""
             }
            },
            "type": "scattercarpet"
           }
          ],
          "scattergeo": [
           {
            "marker": {
             "colorbar": {
              "outlinewidth": 0,
              "ticks": ""
             }
            },
            "type": "scattergeo"
           }
          ],
          "scattergl": [
           {
            "marker": {
             "colorbar": {
              "outlinewidth": 0,
              "ticks": ""
             }
            },
            "type": "scattergl"
           }
          ],
          "scattermapbox": [
           {
            "marker": {
             "colorbar": {
              "outlinewidth": 0,
              "ticks": ""
             }
            },
            "type": "scattermapbox"
           }
          ],
          "scatterpolar": [
           {
            "marker": {
             "colorbar": {
              "outlinewidth": 0,
              "ticks": ""
             }
            },
            "type": "scatterpolar"
           }
          ],
          "scatterpolargl": [
           {
            "marker": {
             "colorbar": {
              "outlinewidth": 0,
              "ticks": ""
             }
            },
            "type": "scatterpolargl"
           }
          ],
          "scatterternary": [
           {
            "marker": {
             "colorbar": {
              "outlinewidth": 0,
              "ticks": ""
             }
            },
            "type": "scatterternary"
           }
          ],
          "surface": [
           {
            "colorbar": {
             "outlinewidth": 0,
             "ticks": ""
            },
            "colorscale": [
             [
              0,
              "#0d0887"
             ],
             [
              0.1111111111111111,
              "#46039f"
             ],
             [
              0.2222222222222222,
              "#7201a8"
             ],
             [
              0.3333333333333333,
              "#9c179e"
             ],
             [
              0.4444444444444444,
              "#bd3786"
             ],
             [
              0.5555555555555556,
              "#d8576b"
             ],
             [
              0.6666666666666666,
              "#ed7953"
             ],
             [
              0.7777777777777778,
              "#fb9f3a"
             ],
             [
              0.8888888888888888,
              "#fdca26"
             ],
             [
              1,
              "#f0f921"
             ]
            ],
            "type": "surface"
           }
          ],
          "table": [
           {
            "cells": {
             "fill": {
              "color": "#EBF0F8"
             },
             "line": {
              "color": "white"
             }
            },
            "header": {
             "fill": {
              "color": "#C8D4E3"
             },
             "line": {
              "color": "white"
             }
            },
            "type": "table"
           }
          ]
         },
         "layout": {
          "annotationdefaults": {
           "arrowcolor": "#2a3f5f",
           "arrowhead": 0,
           "arrowwidth": 1
          },
          "autotypenumbers": "strict",
          "coloraxis": {
           "colorbar": {
            "outlinewidth": 0,
            "ticks": ""
           }
          },
          "colorscale": {
           "diverging": [
            [
             0,
             "#8e0152"
            ],
            [
             0.1,
             "#c51b7d"
            ],
            [
             0.2,
             "#de77ae"
            ],
            [
             0.3,
             "#f1b6da"
            ],
            [
             0.4,
             "#fde0ef"
            ],
            [
             0.5,
             "#f7f7f7"
            ],
            [
             0.6,
             "#e6f5d0"
            ],
            [
             0.7,
             "#b8e186"
            ],
            [
             0.8,
             "#7fbc41"
            ],
            [
             0.9,
             "#4d9221"
            ],
            [
             1,
             "#276419"
            ]
           ],
           "sequential": [
            [
             0,
             "#0d0887"
            ],
            [
             0.1111111111111111,
             "#46039f"
            ],
            [
             0.2222222222222222,
             "#7201a8"
            ],
            [
             0.3333333333333333,
             "#9c179e"
            ],
            [
             0.4444444444444444,
             "#bd3786"
            ],
            [
             0.5555555555555556,
             "#d8576b"
            ],
            [
             0.6666666666666666,
             "#ed7953"
            ],
            [
             0.7777777777777778,
             "#fb9f3a"
            ],
            [
             0.8888888888888888,
             "#fdca26"
            ],
            [
             1,
             "#f0f921"
            ]
           ],
           "sequentialminus": [
            [
             0,
             "#0d0887"
            ],
            [
             0.1111111111111111,
             "#46039f"
            ],
            [
             0.2222222222222222,
             "#7201a8"
            ],
            [
             0.3333333333333333,
             "#9c179e"
            ],
            [
             0.4444444444444444,
             "#bd3786"
            ],
            [
             0.5555555555555556,
             "#d8576b"
            ],
            [
             0.6666666666666666,
             "#ed7953"
            ],
            [
             0.7777777777777778,
             "#fb9f3a"
            ],
            [
             0.8888888888888888,
             "#fdca26"
            ],
            [
             1,
             "#f0f921"
            ]
           ]
          },
          "colorway": [
           "#636efa",
           "#EF553B",
           "#00cc96",
           "#ab63fa",
           "#FFA15A",
           "#19d3f3",
           "#FF6692",
           "#B6E880",
           "#FF97FF",
           "#FECB52"
          ],
          "font": {
           "color": "#2a3f5f"
          },
          "geo": {
           "bgcolor": "white",
           "lakecolor": "white",
           "landcolor": "#E5ECF6",
           "showlakes": true,
           "showland": true,
           "subunitcolor": "white"
          },
          "hoverlabel": {
           "align": "left"
          },
          "hovermode": "closest",
          "mapbox": {
           "style": "light"
          },
          "paper_bgcolor": "white",
          "plot_bgcolor": "#E5ECF6",
          "polar": {
           "angularaxis": {
            "gridcolor": "white",
            "linecolor": "white",
            "ticks": ""
           },
           "bgcolor": "#E5ECF6",
           "radialaxis": {
            "gridcolor": "white",
            "linecolor": "white",
            "ticks": ""
           }
          },
          "scene": {
           "xaxis": {
            "backgroundcolor": "#E5ECF6",
            "gridcolor": "white",
            "gridwidth": 2,
            "linecolor": "white",
            "showbackground": true,
            "ticks": "",
            "zerolinecolor": "white"
           },
           "yaxis": {
            "backgroundcolor": "#E5ECF6",
            "gridcolor": "white",
            "gridwidth": 2,
            "linecolor": "white",
            "showbackground": true,
            "ticks": "",
            "zerolinecolor": "white"
           },
           "zaxis": {
            "backgroundcolor": "#E5ECF6",
            "gridcolor": "white",
            "gridwidth": 2,
            "linecolor": "white",
            "showbackground": true,
            "ticks": "",
            "zerolinecolor": "white"
           }
          },
          "shapedefaults": {
           "line": {
            "color": "#2a3f5f"
           }
          },
          "ternary": {
           "aaxis": {
            "gridcolor": "white",
            "linecolor": "white",
            "ticks": ""
           },
           "baxis": {
            "gridcolor": "white",
            "linecolor": "white",
            "ticks": ""
           },
           "bgcolor": "#E5ECF6",
           "caxis": {
            "gridcolor": "white",
            "linecolor": "white",
            "ticks": ""
           }
          },
          "title": {
           "x": 0.05
          },
          "xaxis": {
           "automargin": true,
           "gridcolor": "white",
           "linecolor": "white",
           "ticks": "",
           "title": {
            "standoff": 15
           },
           "zerolinecolor": "white",
           "zerolinewidth": 2
          },
          "yaxis": {
           "automargin": true,
           "gridcolor": "white",
           "linecolor": "white",
           "ticks": "",
           "title": {
            "standoff": 15
           },
           "zerolinecolor": "white",
           "zerolinewidth": 2
          }
         }
        },
        "width": 400
       }
      }
     },
     "metadata": {},
     "output_type": "display_data"
    }
   ],
   "source": [
    "fig = go.Figure(go.Surface(colorscale=\"reds\",\n",
    "    x = np.asarray(vect_alpha),\n",
    "    y = np.asarray(vect_r),\n",
    "    z = np.asarray(R[0])))\n",
    "fig.update_traces(contours_z=dict(show=True, usecolormap=True, project_z=True))\n",
    "fig.update_layout(scene = dict(\n",
    "                    xaxis_title='alpha',\n",
    "                    yaxis_title='r',\n",
    "                    zaxis_title='RMSE'),\n",
    "                    width =400,\n",
    "                    height=400,\n",
    "                    margin=dict(r=0, b=0, l=0, t=0))\n",
    "fig.show()\n"
   ]
  },
  {
   "cell_type": "code",
   "execution_count": 349,
   "metadata": {},
   "outputs": [
    {
     "data": {
      "text/html": [
       "<div>\n",
       "<style scoped>\n",
       "    .dataframe tbody tr th:only-of-type {\n",
       "        vertical-align: middle;\n",
       "    }\n",
       "\n",
       "    .dataframe tbody tr th {\n",
       "        vertical-align: top;\n",
       "    }\n",
       "\n",
       "    .dataframe thead th {\n",
       "        text-align: right;\n",
       "    }\n",
       "</style>\n",
       "<table border=\"1\" class=\"dataframe\">\n",
       "  <thead>\n",
       "    <tr style=\"text-align: right;\">\n",
       "      <th>ISBN</th>\n",
       "      <th>002542730X</th>\n",
       "      <th>0060008032</th>\n",
       "      <th>0060096195</th>\n",
       "      <th>006016848X</th>\n",
       "      <th>0060173289</th>\n",
       "      <th>0060175400</th>\n",
       "      <th>006019491X</th>\n",
       "      <th>0060199652</th>\n",
       "      <th>0060391626</th>\n",
       "      <th>0060392452</th>\n",
       "      <th>...</th>\n",
       "      <th>1558744630</th>\n",
       "      <th>1558745157</th>\n",
       "      <th>1559029838</th>\n",
       "      <th>1573225517</th>\n",
       "      <th>1573225789</th>\n",
       "      <th>1573227331</th>\n",
       "      <th>1573229326</th>\n",
       "      <th>1573229571</th>\n",
       "      <th>1592400876</th>\n",
       "      <th>1878424319</th>\n",
       "    </tr>\n",
       "    <tr>\n",
       "      <th>User-ID</th>\n",
       "      <th></th>\n",
       "      <th></th>\n",
       "      <th></th>\n",
       "      <th></th>\n",
       "      <th></th>\n",
       "      <th></th>\n",
       "      <th></th>\n",
       "      <th></th>\n",
       "      <th></th>\n",
       "      <th></th>\n",
       "      <th></th>\n",
       "      <th></th>\n",
       "      <th></th>\n",
       "      <th></th>\n",
       "      <th></th>\n",
       "      <th></th>\n",
       "      <th></th>\n",
       "      <th></th>\n",
       "      <th></th>\n",
       "      <th></th>\n",
       "      <th></th>\n",
       "    </tr>\n",
       "  </thead>\n",
       "  <tbody>\n",
       "    <tr>\n",
       "      <th>189835</th>\n",
       "      <td>1.0</td>\n",
       "      <td>1.0</td>\n",
       "      <td>1.0</td>\n",
       "      <td>1.0</td>\n",
       "      <td>1.0</td>\n",
       "      <td>1.0</td>\n",
       "      <td>1.0</td>\n",
       "      <td>1.0</td>\n",
       "      <td>1.0</td>\n",
       "      <td>1.0</td>\n",
       "      <td>...</td>\n",
       "      <td>1.0</td>\n",
       "      <td>1.0</td>\n",
       "      <td>1.0</td>\n",
       "      <td>1.0</td>\n",
       "      <td>1.0</td>\n",
       "      <td>1.0</td>\n",
       "      <td>1.0</td>\n",
       "      <td>1.0</td>\n",
       "      <td>1.0</td>\n",
       "      <td>1.0</td>\n",
       "    </tr>\n",
       "    <tr>\n",
       "      <th>104636</th>\n",
       "      <td>1.0</td>\n",
       "      <td>1.0</td>\n",
       "      <td>1.0</td>\n",
       "      <td>1.0</td>\n",
       "      <td>1.0</td>\n",
       "      <td>1.0</td>\n",
       "      <td>1.0</td>\n",
       "      <td>1.0</td>\n",
       "      <td>1.0</td>\n",
       "      <td>1.0</td>\n",
       "      <td>...</td>\n",
       "      <td>1.0</td>\n",
       "      <td>1.0</td>\n",
       "      <td>1.0</td>\n",
       "      <td>1.0</td>\n",
       "      <td>1.0</td>\n",
       "      <td>1.0</td>\n",
       "      <td>1.0</td>\n",
       "      <td>1.0</td>\n",
       "      <td>1.0</td>\n",
       "      <td>1.0</td>\n",
       "    </tr>\n",
       "    <tr>\n",
       "      <th>248718</th>\n",
       "      <td>1.0</td>\n",
       "      <td>1.0</td>\n",
       "      <td>1.0</td>\n",
       "      <td>1.0</td>\n",
       "      <td>1.0</td>\n",
       "      <td>1.0</td>\n",
       "      <td>1.0</td>\n",
       "      <td>1.0</td>\n",
       "      <td>1.0</td>\n",
       "      <td>1.0</td>\n",
       "      <td>...</td>\n",
       "      <td>1.0</td>\n",
       "      <td>1.0</td>\n",
       "      <td>1.0</td>\n",
       "      <td>1.0</td>\n",
       "      <td>1.0</td>\n",
       "      <td>1.0</td>\n",
       "      <td>1.0</td>\n",
       "      <td>1.0</td>\n",
       "      <td>1.0</td>\n",
       "      <td>1.0</td>\n",
       "    </tr>\n",
       "    <tr>\n",
       "      <th>225810</th>\n",
       "      <td>1.0</td>\n",
       "      <td>1.0</td>\n",
       "      <td>1.0</td>\n",
       "      <td>1.0</td>\n",
       "      <td>1.0</td>\n",
       "      <td>1.0</td>\n",
       "      <td>1.0</td>\n",
       "      <td>1.0</td>\n",
       "      <td>1.0</td>\n",
       "      <td>1.0</td>\n",
       "      <td>...</td>\n",
       "      <td>1.0</td>\n",
       "      <td>1.0</td>\n",
       "      <td>1.0</td>\n",
       "      <td>1.0</td>\n",
       "      <td>1.0</td>\n",
       "      <td>1.0</td>\n",
       "      <td>1.0</td>\n",
       "      <td>1.0</td>\n",
       "      <td>1.0</td>\n",
       "      <td>1.0</td>\n",
       "    </tr>\n",
       "    <tr>\n",
       "      <th>146348</th>\n",
       "      <td>1.0</td>\n",
       "      <td>1.0</td>\n",
       "      <td>1.0</td>\n",
       "      <td>1.0</td>\n",
       "      <td>1.0</td>\n",
       "      <td>1.0</td>\n",
       "      <td>1.0</td>\n",
       "      <td>1.0</td>\n",
       "      <td>1.0</td>\n",
       "      <td>1.0</td>\n",
       "      <td>...</td>\n",
       "      <td>1.0</td>\n",
       "      <td>1.0</td>\n",
       "      <td>1.0</td>\n",
       "      <td>1.0</td>\n",
       "      <td>1.0</td>\n",
       "      <td>1.0</td>\n",
       "      <td>1.0</td>\n",
       "      <td>1.0</td>\n",
       "      <td>1.0</td>\n",
       "      <td>1.0</td>\n",
       "    </tr>\n",
       "    <tr>\n",
       "      <th>274308</th>\n",
       "      <td>1.0</td>\n",
       "      <td>1.0</td>\n",
       "      <td>1.0</td>\n",
       "      <td>1.0</td>\n",
       "      <td>1.0</td>\n",
       "      <td>1.0</td>\n",
       "      <td>1.0</td>\n",
       "      <td>1.0</td>\n",
       "      <td>1.0</td>\n",
       "      <td>1.0</td>\n",
       "      <td>...</td>\n",
       "      <td>1.0</td>\n",
       "      <td>1.0</td>\n",
       "      <td>1.0</td>\n",
       "      <td>1.0</td>\n",
       "      <td>1.0</td>\n",
       "      <td>1.0</td>\n",
       "      <td>1.0</td>\n",
       "      <td>1.0</td>\n",
       "      <td>1.0</td>\n",
       "      <td>1.0</td>\n",
       "    </tr>\n",
       "    <tr>\n",
       "      <th>187145</th>\n",
       "      <td>1.0</td>\n",
       "      <td>1.0</td>\n",
       "      <td>1.0</td>\n",
       "      <td>1.0</td>\n",
       "      <td>1.0</td>\n",
       "      <td>1.0</td>\n",
       "      <td>1.0</td>\n",
       "      <td>1.0</td>\n",
       "      <td>1.0</td>\n",
       "      <td>1.0</td>\n",
       "      <td>...</td>\n",
       "      <td>1.0</td>\n",
       "      <td>1.0</td>\n",
       "      <td>1.0</td>\n",
       "      <td>1.0</td>\n",
       "      <td>1.0</td>\n",
       "      <td>1.0</td>\n",
       "      <td>1.0</td>\n",
       "      <td>1.0</td>\n",
       "      <td>1.0</td>\n",
       "      <td>1.0</td>\n",
       "    </tr>\n",
       "    <tr>\n",
       "      <th>85526</th>\n",
       "      <td>1.0</td>\n",
       "      <td>1.0</td>\n",
       "      <td>1.0</td>\n",
       "      <td>1.0</td>\n",
       "      <td>1.0</td>\n",
       "      <td>1.0</td>\n",
       "      <td>1.0</td>\n",
       "      <td>1.0</td>\n",
       "      <td>1.0</td>\n",
       "      <td>1.0</td>\n",
       "      <td>...</td>\n",
       "      <td>1.0</td>\n",
       "      <td>1.0</td>\n",
       "      <td>1.0</td>\n",
       "      <td>1.0</td>\n",
       "      <td>1.0</td>\n",
       "      <td>1.0</td>\n",
       "      <td>1.0</td>\n",
       "      <td>1.0</td>\n",
       "      <td>1.0</td>\n",
       "      <td>1.0</td>\n",
       "    </tr>\n",
       "    <tr>\n",
       "      <th>254465</th>\n",
       "      <td>1.0</td>\n",
       "      <td>1.0</td>\n",
       "      <td>1.0</td>\n",
       "      <td>1.0</td>\n",
       "      <td>1.0</td>\n",
       "      <td>1.0</td>\n",
       "      <td>1.0</td>\n",
       "      <td>1.0</td>\n",
       "      <td>1.0</td>\n",
       "      <td>1.0</td>\n",
       "      <td>...</td>\n",
       "      <td>1.0</td>\n",
       "      <td>1.0</td>\n",
       "      <td>1.0</td>\n",
       "      <td>1.0</td>\n",
       "      <td>1.0</td>\n",
       "      <td>1.0</td>\n",
       "      <td>1.0</td>\n",
       "      <td>1.0</td>\n",
       "      <td>1.0</td>\n",
       "      <td>1.0</td>\n",
       "    </tr>\n",
       "    <tr>\n",
       "      <th>167349</th>\n",
       "      <td>1.0</td>\n",
       "      <td>1.0</td>\n",
       "      <td>1.0</td>\n",
       "      <td>1.0</td>\n",
       "      <td>1.0</td>\n",
       "      <td>1.0</td>\n",
       "      <td>1.0</td>\n",
       "      <td>1.0</td>\n",
       "      <td>1.0</td>\n",
       "      <td>1.0</td>\n",
       "      <td>...</td>\n",
       "      <td>1.0</td>\n",
       "      <td>1.0</td>\n",
       "      <td>1.0</td>\n",
       "      <td>1.0</td>\n",
       "      <td>1.0</td>\n",
       "      <td>1.0</td>\n",
       "      <td>1.0</td>\n",
       "      <td>1.0</td>\n",
       "      <td>1.0</td>\n",
       "      <td>1.0</td>\n",
       "    </tr>\n",
       "  </tbody>\n",
       "</table>\n",
       "<p>10 rows × 717 columns</p>\n",
       "</div>"
      ],
      "text/plain": [
       "ISBN     002542730X  0060008032  0060096195  006016848X  0060173289  \\\n",
       "User-ID                                                               \n",
       "189835          1.0         1.0         1.0         1.0         1.0   \n",
       "104636          1.0         1.0         1.0         1.0         1.0   \n",
       "248718          1.0         1.0         1.0         1.0         1.0   \n",
       "225810          1.0         1.0         1.0         1.0         1.0   \n",
       "146348          1.0         1.0         1.0         1.0         1.0   \n",
       "274308          1.0         1.0         1.0         1.0         1.0   \n",
       "187145          1.0         1.0         1.0         1.0         1.0   \n",
       "85526           1.0         1.0         1.0         1.0         1.0   \n",
       "254465          1.0         1.0         1.0         1.0         1.0   \n",
       "167349          1.0         1.0         1.0         1.0         1.0   \n",
       "\n",
       "ISBN     0060175400  006019491X  0060199652  0060391626  0060392452  ...  \\\n",
       "User-ID                                                              ...   \n",
       "189835          1.0         1.0         1.0         1.0         1.0  ...   \n",
       "104636          1.0         1.0         1.0         1.0         1.0  ...   \n",
       "248718          1.0         1.0         1.0         1.0         1.0  ...   \n",
       "225810          1.0         1.0         1.0         1.0         1.0  ...   \n",
       "146348          1.0         1.0         1.0         1.0         1.0  ...   \n",
       "274308          1.0         1.0         1.0         1.0         1.0  ...   \n",
       "187145          1.0         1.0         1.0         1.0         1.0  ...   \n",
       "85526           1.0         1.0         1.0         1.0         1.0  ...   \n",
       "254465          1.0         1.0         1.0         1.0         1.0  ...   \n",
       "167349          1.0         1.0         1.0         1.0         1.0  ...   \n",
       "\n",
       "ISBN     1558744630  1558745157  1559029838  1573225517  1573225789  \\\n",
       "User-ID                                                               \n",
       "189835          1.0         1.0         1.0         1.0         1.0   \n",
       "104636          1.0         1.0         1.0         1.0         1.0   \n",
       "248718          1.0         1.0         1.0         1.0         1.0   \n",
       "225810          1.0         1.0         1.0         1.0         1.0   \n",
       "146348          1.0         1.0         1.0         1.0         1.0   \n",
       "274308          1.0         1.0         1.0         1.0         1.0   \n",
       "187145          1.0         1.0         1.0         1.0         1.0   \n",
       "85526           1.0         1.0         1.0         1.0         1.0   \n",
       "254465          1.0         1.0         1.0         1.0         1.0   \n",
       "167349          1.0         1.0         1.0         1.0         1.0   \n",
       "\n",
       "ISBN     1573227331  1573229326  1573229571  1592400876  1878424319  \n",
       "User-ID                                                              \n",
       "189835          1.0         1.0         1.0         1.0         1.0  \n",
       "104636          1.0         1.0         1.0         1.0         1.0  \n",
       "248718          1.0         1.0         1.0         1.0         1.0  \n",
       "225810          1.0         1.0         1.0         1.0         1.0  \n",
       "146348          1.0         1.0         1.0         1.0         1.0  \n",
       "274308          1.0         1.0         1.0         1.0         1.0  \n",
       "187145          1.0         1.0         1.0         1.0         1.0  \n",
       "85526           1.0         1.0         1.0         1.0         1.0  \n",
       "254465          1.0         1.0         1.0         1.0         1.0  \n",
       "167349          1.0         1.0         1.0         1.0         1.0  \n",
       "\n",
       "[10 rows x 717 columns]"
      ]
     },
     "execution_count": 349,
     "metadata": {},
     "output_type": "execute_result"
    }
   ],
   "source": [
    "X_hat=round(NMF_gen(X,R[1],R[2]))\n",
    "X_hat\n"
   ]
  },
  {
   "cell_type": "code",
   "execution_count": 357,
   "metadata": {},
   "outputs": [
    {
     "data": {
      "text/html": [
       "<div>\n",
       "<style scoped>\n",
       "    .dataframe tbody tr th:only-of-type {\n",
       "        vertical-align: middle;\n",
       "    }\n",
       "\n",
       "    .dataframe tbody tr th {\n",
       "        vertical-align: top;\n",
       "    }\n",
       "\n",
       "    .dataframe thead th {\n",
       "        text-align: right;\n",
       "    }\n",
       "</style>\n",
       "<table border=\"1\" class=\"dataframe\">\n",
       "  <thead>\n",
       "    <tr style=\"text-align: right;\">\n",
       "      <th></th>\n",
       "      <th>i</th>\n",
       "      <th>j</th>\n",
       "    </tr>\n",
       "  </thead>\n",
       "  <tbody>\n",
       "    <tr>\n",
       "      <th>0</th>\n",
       "      <td>12</td>\n",
       "      <td>0</td>\n",
       "    </tr>\n",
       "    <tr>\n",
       "      <th>1</th>\n",
       "      <td>12</td>\n",
       "      <td>1</td>\n",
       "    </tr>\n",
       "    <tr>\n",
       "      <th>2</th>\n",
       "      <td>12</td>\n",
       "      <td>3</td>\n",
       "    </tr>\n",
       "    <tr>\n",
       "      <th>3</th>\n",
       "      <td>12</td>\n",
       "      <td>5</td>\n",
       "    </tr>\n",
       "    <tr>\n",
       "      <th>4</th>\n",
       "      <td>12</td>\n",
       "      <td>6</td>\n",
       "    </tr>\n",
       "    <tr>\n",
       "      <th>...</th>\n",
       "      <td>...</td>\n",
       "      <td>...</td>\n",
       "    </tr>\n",
       "    <tr>\n",
       "      <th>439</th>\n",
       "      <td>465</td>\n",
       "      <td>531</td>\n",
       "    </tr>\n",
       "    <tr>\n",
       "      <th>440</th>\n",
       "      <td>465</td>\n",
       "      <td>532</td>\n",
       "    </tr>\n",
       "    <tr>\n",
       "      <th>441</th>\n",
       "      <td>465</td>\n",
       "      <td>534</td>\n",
       "    </tr>\n",
       "    <tr>\n",
       "      <th>442</th>\n",
       "      <td>465</td>\n",
       "      <td>568</td>\n",
       "    </tr>\n",
       "    <tr>\n",
       "      <th>443</th>\n",
       "      <td>465</td>\n",
       "      <td>576</td>\n",
       "    </tr>\n",
       "  </tbody>\n",
       "</table>\n",
       "<p>444 rows × 2 columns</p>\n",
       "</div>"
      ],
      "text/plain": [
       "       i    j\n",
       "0     12    0\n",
       "1     12    1\n",
       "2     12    3\n",
       "3     12    5\n",
       "4     12    6\n",
       "..   ...  ...\n",
       "439  465  531\n",
       "440  465  532\n",
       "441  465  534\n",
       "442  465  568\n",
       "443  465  576\n",
       "\n",
       "[444 rows x 2 columns]"
      ]
     },
     "execution_count": 357,
     "metadata": {},
     "output_type": "execute_result"
    }
   ],
   "source": [
    "X_hat_b=X_hat>5\n",
    "pd.DataFrame(np.asmatrix(np.where(X_hat_b)).T,columns=[\"i\",\"j\"])"
   ]
  },
  {
   "cell_type": "code",
   "execution_count": null,
   "metadata": {},
   "outputs": [],
   "source": []
  }
 ],
 "metadata": {
  "kernelspec": {
   "display_name": "Python 3.9.12 ('TPs')",
   "language": "python",
   "name": "python3"
  },
  "language_info": {
   "codemirror_mode": {
    "name": "ipython",
    "version": 3
   },
   "file_extension": ".py",
   "mimetype": "text/x-python",
   "name": "python",
   "nbconvert_exporter": "python",
   "pygments_lexer": "ipython3",
   "version": "3.9.12"
  },
  "orig_nbformat": 4,
  "vscode": {
   "interpreter": {
    "hash": "0f7f666b1c2f090bfe0dbc0455a49dc5c0d8c6956c0c4a18edb85acba026c8e3"
   }
  }
 },
 "nbformat": 4,
 "nbformat_minor": 2
}
